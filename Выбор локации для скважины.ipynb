{
 "cells": [
  {
   "cell_type": "markdown",
   "metadata": {},
   "source": [
    "# Выбор локации для скважины"
   ]
  },
  {
   "cell_type": "markdown",
   "metadata": {},
   "source": [
    "Допустим, вы работаете в добывающей компании «ГлавРосГосНефть». Нужно решить, где бурить новую скважину.\n",
    "\n",
    "Вам предоставлены пробы нефти в трёх регионах: в каждом 10 000 месторождений, где измерили качество нефти и объём её запасов. Постройте модель машинного обучения, которая поможет определить регион, где добыча принесёт наибольшую прибыль. Проанализируйте возможную прибыль и риски техникой *Bootstrap.*\n",
    "\n",
    "Шаги для выбора локации:\n",
    "\n",
    "- В избранном регионе ищут месторождения, для каждого определяют значения признаков;\n",
    "- Строят модель и оценивают объём запасов;\n",
    "- Выбирают месторождения с самым высокими оценками значений. Количество месторождений зависит от бюджета компании и стоимости разработки одной скважины;\n",
    "- Прибыль равна суммарной прибыли отобранных месторождений."
   ]
  },
  {
   "cell_type": "markdown",
   "metadata": {},
   "source": [
    "### Описание данных\n",
    "\n",
    "•\tid — уникальный идентификатор скважины;\n",
    "\n",
    "•\tf0, f1, f2 — три признака точек (неважно, что они означают, но сами признаки значимы);\n",
    "\n",
    "•\tproduct — объём запасов в скважине (тыс. баррелей).\n"
   ]
  },
  {
   "cell_type": "markdown",
   "metadata": {},
   "source": [
    "### Задача\n",
    "\n",
    "Построить модель машинного обучения, которая поможет определить регион, добыча в котором принесет компании наибольшую прибыль.\n",
    "\n",
    "Цель - выбрать лучший регион для скважин."
   ]
  },
  {
   "cell_type": "markdown",
   "metadata": {},
   "source": [
    "## Загрузка и подготовка данных"
   ]
  },
  {
   "cell_type": "code",
   "execution_count": 1,
   "metadata": {},
   "outputs": [],
   "source": [
    "# Импортируем все необходимое для работы\n",
    "import pandas as pd\n",
    "import numpy as np\n",
    "from sklearn.model_selection import train_test_split\n",
    "from sklearn.linear_model import LinearRegression\n",
    "from sklearn.preprocessing import StandardScaler\n",
    "from sklearn.metrics import mean_squared_error\n",
    "\n",
    "# Отключаем предупреждения\n",
    "import warnings\n",
    "warnings.filterwarnings('ignore')\n",
    "\n",
    "# Откроем файлы \n",
    "try:\n",
    "    df_0 = pd.read_csv('https://code.s3.yandex.net/datasets/geo_data_0.csv')\n",
    "    df_1 = pd.read_csv('https://code.s3.yandex.net/datasets/geo_data_1.csv')\n",
    "    df_2 = pd.read_csv('https://code.s3.yandex.net/datasets/geo_data_2.csv')\n",
    "except:\n",
    "    df_0 = pd.read_csv('geo_data_0.csv')\n",
    "    df_1 = pd.read_csv('geo_data_1.csv')\n",
    "    df_2 = pd.read_csv('geo_data_2.csv')\n",
    "    "
   ]
  },
  {
   "cell_type": "code",
   "execution_count": 2,
   "metadata": {},
   "outputs": [
    {
     "data": {
      "text/html": [
       "<div>\n",
       "<style scoped>\n",
       "    .dataframe tbody tr th:only-of-type {\n",
       "        vertical-align: middle;\n",
       "    }\n",
       "\n",
       "    .dataframe tbody tr th {\n",
       "        vertical-align: top;\n",
       "    }\n",
       "\n",
       "    .dataframe thead th {\n",
       "        text-align: right;\n",
       "    }\n",
       "</style>\n",
       "<table border=\"1\" class=\"dataframe\">\n",
       "  <thead>\n",
       "    <tr style=\"text-align: right;\">\n",
       "      <th></th>\n",
       "      <th>id</th>\n",
       "      <th>f0</th>\n",
       "      <th>f1</th>\n",
       "      <th>f2</th>\n",
       "      <th>product</th>\n",
       "    </tr>\n",
       "  </thead>\n",
       "  <tbody>\n",
       "    <tr>\n",
       "      <th>0</th>\n",
       "      <td>txEyH</td>\n",
       "      <td>0.705745</td>\n",
       "      <td>-0.497823</td>\n",
       "      <td>1.221170</td>\n",
       "      <td>105.280062</td>\n",
       "    </tr>\n",
       "    <tr>\n",
       "      <th>1</th>\n",
       "      <td>2acmU</td>\n",
       "      <td>1.334711</td>\n",
       "      <td>-0.340164</td>\n",
       "      <td>4.365080</td>\n",
       "      <td>73.037750</td>\n",
       "    </tr>\n",
       "    <tr>\n",
       "      <th>2</th>\n",
       "      <td>409Wp</td>\n",
       "      <td>1.022732</td>\n",
       "      <td>0.151990</td>\n",
       "      <td>1.419926</td>\n",
       "      <td>85.265647</td>\n",
       "    </tr>\n",
       "    <tr>\n",
       "      <th>3</th>\n",
       "      <td>iJLyR</td>\n",
       "      <td>-0.032172</td>\n",
       "      <td>0.139033</td>\n",
       "      <td>2.978566</td>\n",
       "      <td>168.620776</td>\n",
       "    </tr>\n",
       "    <tr>\n",
       "      <th>4</th>\n",
       "      <td>Xdl7t</td>\n",
       "      <td>1.988431</td>\n",
       "      <td>0.155413</td>\n",
       "      <td>4.751769</td>\n",
       "      <td>154.036647</td>\n",
       "    </tr>\n",
       "    <tr>\n",
       "      <th>5</th>\n",
       "      <td>wX4Hy</td>\n",
       "      <td>0.969570</td>\n",
       "      <td>0.489775</td>\n",
       "      <td>-0.735383</td>\n",
       "      <td>64.741541</td>\n",
       "    </tr>\n",
       "    <tr>\n",
       "      <th>6</th>\n",
       "      <td>tL6pL</td>\n",
       "      <td>0.645075</td>\n",
       "      <td>0.530656</td>\n",
       "      <td>1.780266</td>\n",
       "      <td>49.055285</td>\n",
       "    </tr>\n",
       "    <tr>\n",
       "      <th>7</th>\n",
       "      <td>BYPU6</td>\n",
       "      <td>-0.400648</td>\n",
       "      <td>0.808337</td>\n",
       "      <td>-5.624670</td>\n",
       "      <td>72.943292</td>\n",
       "    </tr>\n",
       "    <tr>\n",
       "      <th>8</th>\n",
       "      <td>j9Oui</td>\n",
       "      <td>0.643105</td>\n",
       "      <td>-0.551583</td>\n",
       "      <td>2.372141</td>\n",
       "      <td>113.356160</td>\n",
       "    </tr>\n",
       "    <tr>\n",
       "      <th>9</th>\n",
       "      <td>OLuZU</td>\n",
       "      <td>2.173381</td>\n",
       "      <td>0.563698</td>\n",
       "      <td>9.441852</td>\n",
       "      <td>127.910945</td>\n",
       "    </tr>\n",
       "  </tbody>\n",
       "</table>\n",
       "</div>"
      ],
      "text/plain": [
       "      id        f0        f1        f2     product\n",
       "0  txEyH  0.705745 -0.497823  1.221170  105.280062\n",
       "1  2acmU  1.334711 -0.340164  4.365080   73.037750\n",
       "2  409Wp  1.022732  0.151990  1.419926   85.265647\n",
       "3  iJLyR -0.032172  0.139033  2.978566  168.620776\n",
       "4  Xdl7t  1.988431  0.155413  4.751769  154.036647\n",
       "5  wX4Hy  0.969570  0.489775 -0.735383   64.741541\n",
       "6  tL6pL  0.645075  0.530656  1.780266   49.055285\n",
       "7  BYPU6 -0.400648  0.808337 -5.624670   72.943292\n",
       "8  j9Oui  0.643105 -0.551583  2.372141  113.356160\n",
       "9  OLuZU  2.173381  0.563698  9.441852  127.910945"
      ]
     },
     "execution_count": 2,
     "metadata": {},
     "output_type": "execute_result"
    }
   ],
   "source": [
    "# Выведем первые 10 строк\n",
    "df_0.head(10)"
   ]
  },
  {
   "cell_type": "code",
   "execution_count": 3,
   "metadata": {},
   "outputs": [
    {
     "data": {
      "text/html": [
       "<div>\n",
       "<style scoped>\n",
       "    .dataframe tbody tr th:only-of-type {\n",
       "        vertical-align: middle;\n",
       "    }\n",
       "\n",
       "    .dataframe tbody tr th {\n",
       "        vertical-align: top;\n",
       "    }\n",
       "\n",
       "    .dataframe thead th {\n",
       "        text-align: right;\n",
       "    }\n",
       "</style>\n",
       "<table border=\"1\" class=\"dataframe\">\n",
       "  <thead>\n",
       "    <tr style=\"text-align: right;\">\n",
       "      <th></th>\n",
       "      <th>id</th>\n",
       "      <th>f0</th>\n",
       "      <th>f1</th>\n",
       "      <th>f2</th>\n",
       "      <th>product</th>\n",
       "    </tr>\n",
       "  </thead>\n",
       "  <tbody>\n",
       "    <tr>\n",
       "      <th>0</th>\n",
       "      <td>kBEdx</td>\n",
       "      <td>-15.001348</td>\n",
       "      <td>-8.276000</td>\n",
       "      <td>-0.005876</td>\n",
       "      <td>3.179103</td>\n",
       "    </tr>\n",
       "    <tr>\n",
       "      <th>1</th>\n",
       "      <td>62mP7</td>\n",
       "      <td>14.272088</td>\n",
       "      <td>-3.475083</td>\n",
       "      <td>0.999183</td>\n",
       "      <td>26.953261</td>\n",
       "    </tr>\n",
       "    <tr>\n",
       "      <th>2</th>\n",
       "      <td>vyE1P</td>\n",
       "      <td>6.263187</td>\n",
       "      <td>-5.948386</td>\n",
       "      <td>5.001160</td>\n",
       "      <td>134.766305</td>\n",
       "    </tr>\n",
       "    <tr>\n",
       "      <th>3</th>\n",
       "      <td>KcrkZ</td>\n",
       "      <td>-13.081196</td>\n",
       "      <td>-11.506057</td>\n",
       "      <td>4.999415</td>\n",
       "      <td>137.945408</td>\n",
       "    </tr>\n",
       "    <tr>\n",
       "      <th>4</th>\n",
       "      <td>AHL4O</td>\n",
       "      <td>12.702195</td>\n",
       "      <td>-8.147433</td>\n",
       "      <td>5.004363</td>\n",
       "      <td>134.766305</td>\n",
       "    </tr>\n",
       "    <tr>\n",
       "      <th>5</th>\n",
       "      <td>HHckp</td>\n",
       "      <td>-3.327590</td>\n",
       "      <td>-2.205276</td>\n",
       "      <td>3.003647</td>\n",
       "      <td>84.038886</td>\n",
       "    </tr>\n",
       "    <tr>\n",
       "      <th>6</th>\n",
       "      <td>h5Ujo</td>\n",
       "      <td>-11.142655</td>\n",
       "      <td>-10.133399</td>\n",
       "      <td>4.002382</td>\n",
       "      <td>110.992147</td>\n",
       "    </tr>\n",
       "    <tr>\n",
       "      <th>7</th>\n",
       "      <td>muH9x</td>\n",
       "      <td>4.234715</td>\n",
       "      <td>-0.001354</td>\n",
       "      <td>2.004588</td>\n",
       "      <td>53.906522</td>\n",
       "    </tr>\n",
       "    <tr>\n",
       "      <th>8</th>\n",
       "      <td>YiRkx</td>\n",
       "      <td>13.355129</td>\n",
       "      <td>-0.332068</td>\n",
       "      <td>4.998647</td>\n",
       "      <td>134.766305</td>\n",
       "    </tr>\n",
       "    <tr>\n",
       "      <th>9</th>\n",
       "      <td>jG6Gi</td>\n",
       "      <td>1.069227</td>\n",
       "      <td>-11.025667</td>\n",
       "      <td>4.997844</td>\n",
       "      <td>137.945408</td>\n",
       "    </tr>\n",
       "  </tbody>\n",
       "</table>\n",
       "</div>"
      ],
      "text/plain": [
       "      id         f0         f1        f2     product\n",
       "0  kBEdx -15.001348  -8.276000 -0.005876    3.179103\n",
       "1  62mP7  14.272088  -3.475083  0.999183   26.953261\n",
       "2  vyE1P   6.263187  -5.948386  5.001160  134.766305\n",
       "3  KcrkZ -13.081196 -11.506057  4.999415  137.945408\n",
       "4  AHL4O  12.702195  -8.147433  5.004363  134.766305\n",
       "5  HHckp  -3.327590  -2.205276  3.003647   84.038886\n",
       "6  h5Ujo -11.142655 -10.133399  4.002382  110.992147\n",
       "7  muH9x   4.234715  -0.001354  2.004588   53.906522\n",
       "8  YiRkx  13.355129  -0.332068  4.998647  134.766305\n",
       "9  jG6Gi   1.069227 -11.025667  4.997844  137.945408"
      ]
     },
     "execution_count": 3,
     "metadata": {},
     "output_type": "execute_result"
    }
   ],
   "source": [
    "# Выведем первые 10 строк\n",
    "df_1.head(10)"
   ]
  },
  {
   "cell_type": "code",
   "execution_count": 4,
   "metadata": {},
   "outputs": [
    {
     "data": {
      "text/html": [
       "<div>\n",
       "<style scoped>\n",
       "    .dataframe tbody tr th:only-of-type {\n",
       "        vertical-align: middle;\n",
       "    }\n",
       "\n",
       "    .dataframe tbody tr th {\n",
       "        vertical-align: top;\n",
       "    }\n",
       "\n",
       "    .dataframe thead th {\n",
       "        text-align: right;\n",
       "    }\n",
       "</style>\n",
       "<table border=\"1\" class=\"dataframe\">\n",
       "  <thead>\n",
       "    <tr style=\"text-align: right;\">\n",
       "      <th></th>\n",
       "      <th>id</th>\n",
       "      <th>f0</th>\n",
       "      <th>f1</th>\n",
       "      <th>f2</th>\n",
       "      <th>product</th>\n",
       "    </tr>\n",
       "  </thead>\n",
       "  <tbody>\n",
       "    <tr>\n",
       "      <th>0</th>\n",
       "      <td>fwXo0</td>\n",
       "      <td>-1.146987</td>\n",
       "      <td>0.963328</td>\n",
       "      <td>-0.828965</td>\n",
       "      <td>27.758673</td>\n",
       "    </tr>\n",
       "    <tr>\n",
       "      <th>1</th>\n",
       "      <td>WJtFt</td>\n",
       "      <td>0.262778</td>\n",
       "      <td>0.269839</td>\n",
       "      <td>-2.530187</td>\n",
       "      <td>56.069697</td>\n",
       "    </tr>\n",
       "    <tr>\n",
       "      <th>2</th>\n",
       "      <td>ovLUW</td>\n",
       "      <td>0.194587</td>\n",
       "      <td>0.289035</td>\n",
       "      <td>-5.586433</td>\n",
       "      <td>62.871910</td>\n",
       "    </tr>\n",
       "    <tr>\n",
       "      <th>3</th>\n",
       "      <td>q6cA6</td>\n",
       "      <td>2.236060</td>\n",
       "      <td>-0.553760</td>\n",
       "      <td>0.930038</td>\n",
       "      <td>114.572842</td>\n",
       "    </tr>\n",
       "    <tr>\n",
       "      <th>4</th>\n",
       "      <td>WPMUX</td>\n",
       "      <td>-0.515993</td>\n",
       "      <td>1.716266</td>\n",
       "      <td>5.899011</td>\n",
       "      <td>149.600746</td>\n",
       "    </tr>\n",
       "    <tr>\n",
       "      <th>5</th>\n",
       "      <td>LzZXx</td>\n",
       "      <td>-0.758092</td>\n",
       "      <td>0.710691</td>\n",
       "      <td>2.585887</td>\n",
       "      <td>90.222465</td>\n",
       "    </tr>\n",
       "    <tr>\n",
       "      <th>6</th>\n",
       "      <td>WBHRv</td>\n",
       "      <td>-0.574891</td>\n",
       "      <td>0.317727</td>\n",
       "      <td>1.773745</td>\n",
       "      <td>45.641478</td>\n",
       "    </tr>\n",
       "    <tr>\n",
       "      <th>7</th>\n",
       "      <td>XO8fn</td>\n",
       "      <td>-1.906649</td>\n",
       "      <td>-2.458350</td>\n",
       "      <td>-0.177097</td>\n",
       "      <td>72.480640</td>\n",
       "    </tr>\n",
       "    <tr>\n",
       "      <th>8</th>\n",
       "      <td>ybmQ5</td>\n",
       "      <td>1.776292</td>\n",
       "      <td>-0.279356</td>\n",
       "      <td>3.004156</td>\n",
       "      <td>106.616832</td>\n",
       "    </tr>\n",
       "    <tr>\n",
       "      <th>9</th>\n",
       "      <td>OilcN</td>\n",
       "      <td>-1.214452</td>\n",
       "      <td>-0.439314</td>\n",
       "      <td>5.922514</td>\n",
       "      <td>52.954532</td>\n",
       "    </tr>\n",
       "  </tbody>\n",
       "</table>\n",
       "</div>"
      ],
      "text/plain": [
       "      id        f0        f1        f2     product\n",
       "0  fwXo0 -1.146987  0.963328 -0.828965   27.758673\n",
       "1  WJtFt  0.262778  0.269839 -2.530187   56.069697\n",
       "2  ovLUW  0.194587  0.289035 -5.586433   62.871910\n",
       "3  q6cA6  2.236060 -0.553760  0.930038  114.572842\n",
       "4  WPMUX -0.515993  1.716266  5.899011  149.600746\n",
       "5  LzZXx -0.758092  0.710691  2.585887   90.222465\n",
       "6  WBHRv -0.574891  0.317727  1.773745   45.641478\n",
       "7  XO8fn -1.906649 -2.458350 -0.177097   72.480640\n",
       "8  ybmQ5  1.776292 -0.279356  3.004156  106.616832\n",
       "9  OilcN -1.214452 -0.439314  5.922514   52.954532"
      ]
     },
     "execution_count": 4,
     "metadata": {},
     "output_type": "execute_result"
    }
   ],
   "source": [
    "# Выведем первые 10 строк\n",
    "df_2.head(10)"
   ]
  },
  {
   "cell_type": "code",
   "execution_count": 5,
   "metadata": {},
   "outputs": [
    {
     "name": "stdout",
     "output_type": "stream",
     "text": [
      "<class 'pandas.core.frame.DataFrame'>\n",
      "RangeIndex: 100000 entries, 0 to 99999\n",
      "Data columns (total 5 columns):\n",
      " #   Column   Non-Null Count   Dtype  \n",
      "---  ------   --------------   -----  \n",
      " 0   id       100000 non-null  object \n",
      " 1   f0       100000 non-null  float64\n",
      " 2   f1       100000 non-null  float64\n",
      " 3   f2       100000 non-null  float64\n",
      " 4   product  100000 non-null  float64\n",
      "dtypes: float64(4), object(1)\n",
      "memory usage: 3.8+ MB\n"
     ]
    }
   ],
   "source": [
    "df_0.info()"
   ]
  },
  {
   "cell_type": "code",
   "execution_count": 6,
   "metadata": {},
   "outputs": [
    {
     "name": "stdout",
     "output_type": "stream",
     "text": [
      "<class 'pandas.core.frame.DataFrame'>\n",
      "RangeIndex: 100000 entries, 0 to 99999\n",
      "Data columns (total 5 columns):\n",
      " #   Column   Non-Null Count   Dtype  \n",
      "---  ------   --------------   -----  \n",
      " 0   id       100000 non-null  object \n",
      " 1   f0       100000 non-null  float64\n",
      " 2   f1       100000 non-null  float64\n",
      " 3   f2       100000 non-null  float64\n",
      " 4   product  100000 non-null  float64\n",
      "dtypes: float64(4), object(1)\n",
      "memory usage: 3.8+ MB\n"
     ]
    }
   ],
   "source": [
    "df_1.info()"
   ]
  },
  {
   "cell_type": "code",
   "execution_count": 7,
   "metadata": {},
   "outputs": [
    {
     "name": "stdout",
     "output_type": "stream",
     "text": [
      "<class 'pandas.core.frame.DataFrame'>\n",
      "RangeIndex: 100000 entries, 0 to 99999\n",
      "Data columns (total 5 columns):\n",
      " #   Column   Non-Null Count   Dtype  \n",
      "---  ------   --------------   -----  \n",
      " 0   id       100000 non-null  object \n",
      " 1   f0       100000 non-null  float64\n",
      " 2   f1       100000 non-null  float64\n",
      " 3   f2       100000 non-null  float64\n",
      " 4   product  100000 non-null  float64\n",
      "dtypes: float64(4), object(1)\n",
      "memory usage: 3.8+ MB\n"
     ]
    }
   ],
   "source": [
    "df_2.info()"
   ]
  },
  {
   "cell_type": "code",
   "execution_count": 8,
   "metadata": {},
   "outputs": [
    {
     "name": "stdout",
     "output_type": "stream",
     "text": [
      "id         0\n",
      "f0         0\n",
      "f1         0\n",
      "f2         0\n",
      "product    0\n",
      "dtype: int64\n",
      "\n",
      "id         0\n",
      "f0         0\n",
      "f1         0\n",
      "f2         0\n",
      "product    0\n",
      "dtype: int64\n",
      "\n",
      "id         0\n",
      "f0         0\n",
      "f1         0\n",
      "f2         0\n",
      "product    0\n",
      "dtype: int64\n"
     ]
    }
   ],
   "source": [
    "print(df_0.isna().sum())\n",
    "print()\n",
    "print(df_1.isna().sum())\n",
    "print()\n",
    "print(df_2.isna().sum())"
   ]
  },
  {
   "cell_type": "code",
   "execution_count": 9,
   "metadata": {},
   "outputs": [
    {
     "name": "stdout",
     "output_type": "stream",
     "text": [
      "0\n",
      "\n",
      "0\n",
      "\n",
      "0\n"
     ]
    }
   ],
   "source": [
    "print(df_0.duplicated().sum())\n",
    "print()\n",
    "print(df_1.duplicated().sum())\n",
    "print()\n",
    "print(df_2.duplicated().sum())"
   ]
  },
  {
   "cell_type": "code",
   "execution_count": 10,
   "metadata": {},
   "outputs": [
    {
     "name": "stdout",
     "output_type": "stream",
     "text": [
      "                  f0             f1             f2        product\n",
      "count  100000.000000  100000.000000  100000.000000  100000.000000\n",
      "mean        0.500419       0.250143       2.502647      92.500000\n",
      "std         0.871832       0.504433       3.248248      44.288691\n",
      "min        -1.408605      -0.848218     -12.088328       0.000000\n",
      "25%        -0.072580      -0.200881       0.287748      56.497507\n",
      "50%         0.502360       0.250252       2.515969      91.849972\n",
      "75%         1.073581       0.700646       4.715088     128.564089\n",
      "max         2.362331       1.343769      16.003790     185.364347\n",
      "\n",
      "                  f0             f1             f2        product\n",
      "count  100000.000000  100000.000000  100000.000000  100000.000000\n",
      "mean        1.141296      -4.796579       2.494541      68.825000\n",
      "std         8.965932       5.119872       1.703572      45.944423\n",
      "min       -31.609576     -26.358598      -0.018144       0.000000\n",
      "25%        -6.298551      -8.267985       1.000021      26.953261\n",
      "50%         1.153055      -4.813172       2.011479      57.085625\n",
      "75%         8.621015      -1.332816       3.999904     107.813044\n",
      "max        29.421755      18.734063       5.019721     137.945408\n",
      "\n",
      "                  f0             f1             f2        product\n",
      "count  100000.000000  100000.000000  100000.000000  100000.000000\n",
      "mean        0.002023      -0.002081       2.495128      95.000000\n",
      "std         1.732045       1.730417       3.473445      44.749921\n",
      "min        -8.760004      -7.084020     -11.970335       0.000000\n",
      "25%        -1.162288      -1.174820       0.130359      59.450441\n",
      "50%         0.009424      -0.009482       2.484236      94.925613\n",
      "75%         1.158535       1.163678       4.858794     130.595027\n",
      "max         7.238262       7.844801      16.739402     190.029838\n"
     ]
    }
   ],
   "source": [
    "print(df_0.describe())\n",
    "print()\n",
    "print(df_1.describe())\n",
    "print()\n",
    "print(df_2.describe())"
   ]
  },
  {
   "cell_type": "code",
   "execution_count": 11,
   "metadata": {},
   "outputs": [],
   "source": [
    "df_0 = df_0.drop('id', axis=1)\n",
    "df_1 = df_1.drop('id', axis=1)\n",
    "df_2 = df_2.drop('id', axis=1)"
   ]
  },
  {
   "cell_type": "code",
   "execution_count": 12,
   "metadata": {},
   "outputs": [
    {
     "name": "stdout",
     "output_type": "stream",
     "text": [
      "          f0        f1        f2\n",
      "f0  1.000000 -0.440723 -0.003153\n",
      "f1 -0.440723  1.000000  0.001724\n",
      "f2 -0.003153  0.001724  1.000000\n"
     ]
    }
   ],
   "source": [
    "print(df_0[['f0', 'f1', 'f2']].corr())"
   ]
  },
  {
   "cell_type": "code",
   "execution_count": 13,
   "metadata": {},
   "outputs": [
    {
     "name": "stdout",
     "output_type": "stream",
     "text": [
      "          f0        f1        f2\n",
      "f0  1.000000  0.182287 -0.001777\n",
      "f1  0.182287  1.000000 -0.002595\n",
      "f2 -0.001777 -0.002595  1.000000\n"
     ]
    }
   ],
   "source": [
    "print(df_1[['f0', 'f1', 'f2']].corr())"
   ]
  },
  {
   "cell_type": "code",
   "execution_count": 14,
   "metadata": {},
   "outputs": [
    {
     "name": "stdout",
     "output_type": "stream",
     "text": [
      "          f0        f1        f2\n",
      "f0  1.000000  0.000528 -0.000448\n",
      "f1  0.000528  1.000000  0.000779\n",
      "f2 -0.000448  0.000779  1.000000\n"
     ]
    }
   ],
   "source": [
    "print(df_2[['f0', 'f1', 'f2']].corr())"
   ]
  },
  {
   "cell_type": "markdown",
   "metadata": {},
   "source": [
    "Вывод.\n",
    "\n",
    "Данные готовы к работе. Пропуски и дубликаты отсутствуют. Корреляции между признаками не обнаружено.\n",
    "\n",
    "Также мы удалили столбец ['id'], для обучения модели этот признак неинформативен."
   ]
  },
  {
   "cell_type": "markdown",
   "metadata": {},
   "source": [
    "## Обучение и проверка модели"
   ]
  },
  {
   "cell_type": "markdown",
   "metadata": {},
   "source": [
    "Разделим данные на обучающую и валидационную выборки с использованием функции StandardScaler для масштабирования признаков"
   ]
  },
  {
   "cell_type": "code",
   "execution_count": 15,
   "metadata": {},
   "outputs": [],
   "source": [
    "RANDOM_STATE = np.random.RandomState(12345)"
   ]
  },
  {
   "cell_type": "code",
   "execution_count": 16,
   "metadata": {},
   "outputs": [],
   "source": [
    "def split_scale_df(df, target_ss = 'product', test_size_ss = 0.25, random_state = RANDOM_STATE):\n",
    "    \n",
    "    # Разделим данные на features - признаки и target - целевой признак\n",
    "    features = df.drop(target_ss, axis = 1)\n",
    "    target = df[target_ss]\n",
    "    \n",
    "    # Поделим данные на обучающую выборку и валидационную\n",
    "    features_train, features_valid, target_train, target_valid = train_test_split(\n",
    "        features, target, test_size = test_size_ss, random_state = RANDOM_STATE)\n",
    "    \n",
    "    # Масштабируем признаки\n",
    "    numeric = ['f0', 'f1', 'f2']\n",
    "    scaler = StandardScaler()\n",
    "    features_train[numeric] = scaler.fit_transform(features_train[numeric])\n",
    "    features_valid[numeric] = scaler.transform(features_valid[numeric])\n",
    "    \n",
    "    return features_train[numeric], features_valid[numeric], target_train, target_valid"
   ]
  },
  {
   "cell_type": "code",
   "execution_count": 17,
   "metadata": {},
   "outputs": [],
   "source": [
    "# применяем функцию\n",
    "features_train_0, features_valid_0, target_train_0, target_valid_0 = split_scale_df(df_0)\n",
    "features_train_1, features_valid_1, target_train_1, target_valid_1 = split_scale_df(df_1)\n",
    "features_train_2, features_valid_2, target_train_2, target_valid_2 = split_scale_df(df_2)"
   ]
  },
  {
   "cell_type": "code",
   "execution_count": 18,
   "metadata": {},
   "outputs": [
    {
     "name": "stdout",
     "output_type": "stream",
     "text": [
      "(75000, 3)\n"
     ]
    }
   ],
   "source": [
    "print(features_train_0.shape)"
   ]
  },
  {
   "cell_type": "code",
   "execution_count": 19,
   "metadata": {},
   "outputs": [
    {
     "name": "stdout",
     "output_type": "stream",
     "text": [
      "(75000,)\n"
     ]
    }
   ],
   "source": [
    "print(target_train_0.shape)"
   ]
  },
  {
   "cell_type": "code",
   "execution_count": 20,
   "metadata": {},
   "outputs": [
    {
     "name": "stdout",
     "output_type": "stream",
     "text": [
      "(25000, 3)\n"
     ]
    }
   ],
   "source": [
    "print(features_valid_1.shape)"
   ]
  },
  {
   "cell_type": "code",
   "execution_count": 21,
   "metadata": {},
   "outputs": [
    {
     "name": "stdout",
     "output_type": "stream",
     "text": [
      "(25000,)\n"
     ]
    }
   ],
   "source": [
    "print(target_valid_1.shape)"
   ]
  },
  {
   "cell_type": "markdown",
   "metadata": {},
   "source": [
    "Напишем функцию для обучения моделей линейной ирегрессии и сделаем предсказания по валидачионной выборке"
   ]
  },
  {
   "cell_type": "code",
   "execution_count": 22,
   "metadata": {},
   "outputs": [],
   "source": [
    "def lr_model(features_train, features_valid, target_train, target_valid):\n",
    "    \n",
    "    # Запускаем обучение\n",
    "    model_lr = LinearRegression()\n",
    "    model_lr.fit(features_train, target_train)\n",
    "    \n",
    "    predicted_valid = model_lr.predict(features_valid)\n",
    "    \n",
    "    # считаем RMSE для модели\n",
    "    rmse = mean_squared_error(target_valid, predicted_valid, squared = False)\n",
    "    \n",
    "    # считаем средний запас\n",
    "    target_mean = target_valid.mean()\n",
    "    \n",
    "    return predicted_valid, rmse, model_lr, target_mean\n"
   ]
  },
  {
   "cell_type": "code",
   "execution_count": 23,
   "metadata": {},
   "outputs": [],
   "source": [
    "predicted_valid_0, rmse_0, model_lr_0, target_mean_0 = lr_model(\n",
    "    features_train_0, features_valid_0, target_train_0, target_valid_0)\n",
    "\n",
    "predicted_valid_1, rmse_1, model_lr_1, target_mean_1 = lr_model(\n",
    "    features_train_1, features_valid_1, target_train_1, target_valid_1)\n",
    "\n",
    "predicted_valid_2, rmse_2, model_lr_2, target_mean_2 = lr_model(\n",
    "    features_train_2, features_valid_2, target_train_2, target_valid_2)"
   ]
  },
  {
   "cell_type": "code",
   "execution_count": 24,
   "metadata": {},
   "outputs": [
    {
     "name": "stdout",
     "output_type": "stream",
     "text": [
      "Регион 1: Средний запас предсказанного сырья = 92.59256778438035\n",
      "\n",
      "RMSE = 37.5794217150813\n",
      "\n",
      "Истинный средний запас сырья = 92.07859674082927\n"
     ]
    }
   ],
   "source": [
    "print('Регион 1: Средний запас предсказанного сырья =', predicted_valid_0.mean())\n",
    "print()\n",
    "print('RMSE =', rmse_0)\n",
    "print()\n",
    "print('Истинный средний запас сырья =', target_mean_0)"
   ]
  },
  {
   "cell_type": "code",
   "execution_count": 25,
   "metadata": {},
   "outputs": [
    {
     "name": "stdout",
     "output_type": "stream",
     "text": [
      "Регион 2: Средний запас предсказанного сырья = 68.76995145799754\n",
      "\n",
      "RMSE = 0.889736773768065\n",
      "\n",
      "Истинный средний запас сырья = 68.77162424984647\n"
     ]
    }
   ],
   "source": [
    "print('Регион 2: Средний запас предсказанного сырья =', predicted_valid_1.mean())\n",
    "print()\n",
    "print('RMSE =', rmse_1)\n",
    "print()\n",
    "print('Истинный средний запас сырья =', target_mean_1)"
   ]
  },
  {
   "cell_type": "code",
   "execution_count": 26,
   "metadata": {},
   "outputs": [
    {
     "name": "stdout",
     "output_type": "stream",
     "text": [
      "Регион 3: Средний запас предсказанного сырья = 95.087528122523\n",
      "\n",
      "RMSE = 39.958042459521614\n",
      "\n",
      "Истинный средний запас сырья = 94.74895871720241\n"
     ]
    }
   ],
   "source": [
    "print('Регион 3: Средний запас предсказанного сырья =', predicted_valid_2.mean())\n",
    "print()\n",
    "print('RMSE =', rmse_2)\n",
    "print()\n",
    "print('Истинный средний запас сырья =', target_mean_2)"
   ]
  },
  {
   "cell_type": "markdown",
   "metadata": {},
   "source": [
    "#### Вывод\n",
    "Все моделли показывают хорошие результаты, близкие к истинным.\n",
    "\n",
    "Лучше всего модель работает на втором регионе, показатель RMSE = 0.88. \n",
    "\n",
    "В третьем регионе модель показывает самый высокий уровень предсказаний, но её RMSE = 39. Это означает, что модель дает недостаточно точные результаты и опираться на них мы не можем."
   ]
  },
  {
   "cell_type": "markdown",
   "metadata": {},
   "source": [
    "## Подготовка к расчёту прибыли"
   ]
  },
  {
   "cell_type": "code",
   "execution_count": 27,
   "metadata": {},
   "outputs": [],
   "source": [
    "# бюджет на разработку\n",
    "budget = 10_000_000_000  \n",
    "\n",
    "barrel_price = 450_000  \n",
    "\n",
    "# нефтяные скважины для разработки\n",
    "oil_well = 200 \n",
    "\n",
    "# все нефтяные скважины\n",
    "oil_well_all = 500 "
   ]
  },
  {
   "cell_type": "code",
   "execution_count": 28,
   "metadata": {},
   "outputs": [
    {
     "name": "stdout",
     "output_type": "stream",
     "text": [
      "Безубыточный объем сырья для новой скважины: 111.11111111111111\n"
     ]
    }
   ],
   "source": [
    "# Рассчитаем безубыточный объем сырья для новой скважины\n",
    "favorable_volume = budget / (barrel_price * oil_well)\n",
    "\n",
    "print('Безубыточный объем сырья для новой скважины:', favorable_volume)"
   ]
  },
  {
   "cell_type": "code",
   "execution_count": 29,
   "metadata": {},
   "outputs": [
    {
     "name": "stdout",
     "output_type": "stream",
     "text": [
      "Регион 1\n",
      "\n",
      "Истинный средний объем = 92.07859674082927\n",
      "\n",
      "Отличие от безубыточного объема = -19.032514370281845\n"
     ]
    }
   ],
   "source": [
    "print('Регион 1')\n",
    "print()\n",
    "print('Истинный средний объем =', target_mean_0)\n",
    "print()\n",
    "print('Отличие от безубыточного объема =', target_mean_0 - favorable_volume)"
   ]
  },
  {
   "cell_type": "code",
   "execution_count": 30,
   "metadata": {},
   "outputs": [
    {
     "name": "stdout",
     "output_type": "stream",
     "text": [
      "Регион 2\n",
      "\n",
      "Истинный средний объем = 68.77162424984647\n",
      "\n",
      "Отличие от безубыточного объема = -42.339486861264646\n"
     ]
    }
   ],
   "source": [
    "print('Регион 2')\n",
    "print()\n",
    "print('Истинный средний объем =', target_mean_1)\n",
    "print()\n",
    "print('Отличие от безубыточного объема =', target_mean_1 - favorable_volume)"
   ]
  },
  {
   "cell_type": "code",
   "execution_count": 31,
   "metadata": {},
   "outputs": [
    {
     "name": "stdout",
     "output_type": "stream",
     "text": [
      "Регион 3\n",
      "\n",
      "Истинный средний объем = 94.74895871720241\n",
      "\n",
      "Отличие от безубыточного объема = -16.3621523939087\n"
     ]
    }
   ],
   "source": [
    "print('Регион 3')\n",
    "print()\n",
    "print('Истинный средний объем =', target_mean_2)\n",
    "print()\n",
    "print('Отличие от безубыточного объема =', target_mean_2 - favorable_volume)"
   ]
  },
  {
   "cell_type": "markdown",
   "metadata": {},
   "source": [
    "### Вывод.\n",
    "\n",
    "В каждом регионе средний объем сырья оказался меньше неоходимого для безубыточной добычи. Во время разработки скважин всегда есть высокие риски неокупаемости средств компании, затраченных на построение новых скважин. Возможно следует обратить внимание на другие скважины, чтобы подыскать более надежные варианты."
   ]
  },
  {
   "cell_type": "markdown",
   "metadata": {},
   "source": [
    "## Расчёт прибыли и рисков "
   ]
  },
  {
   "cell_type": "code",
   "execution_count": 32,
   "metadata": {},
   "outputs": [],
   "source": [
    "def profit(predicted_valid, target_valid):\n",
    "    predicted = pd.Series(predicted_valid).sort_values(ascending = False)\n",
    "    target = target_valid.iloc[predicted.index][:oil_well]\n",
    "    profit = target.sum() * barrel_price - budget\n",
    "    \n",
    "    return profit"
   ]
  },
  {
   "cell_type": "code",
   "execution_count": 33,
   "metadata": {},
   "outputs": [
    {
     "name": "stdout",
     "output_type": "stream",
     "text": [
      "Регион 1\n",
      "Прибыль = 3320826043.1398506\n"
     ]
    }
   ],
   "source": [
    "R1_profit = profit(predicted_valid_0, target_valid_0.reset_index(drop = True))\n",
    "print('Регион 1')\n",
    "print('Прибыль =', R1_profit)"
   ]
  },
  {
   "cell_type": "code",
   "execution_count": 34,
   "metadata": {},
   "outputs": [
    {
     "name": "stdout",
     "output_type": "stream",
     "text": [
      "Регион 2\n",
      "Прибыль = 2415086696.681511\n"
     ]
    }
   ],
   "source": [
    "R2_profit = profit(predicted_valid_1, target_valid_1.reset_index(drop = True))\n",
    "print('Регион 2')\n",
    "print('Прибыль =', R2_profit)"
   ]
  },
  {
   "cell_type": "code",
   "execution_count": 35,
   "metadata": {},
   "outputs": [
    {
     "name": "stdout",
     "output_type": "stream",
     "text": [
      "Регион 3\n",
      "Прибыль = 2539915945.842947\n"
     ]
    }
   ],
   "source": [
    "R3_profit = profit(predicted_valid_2, target_valid_2.reset_index(drop = True))\n",
    "print('Регион 3')\n",
    "print('Прибыль =', R3_profit)"
   ]
  },
  {
   "cell_type": "markdown",
   "metadata": {},
   "source": [
    "Воспользуемся методом Bootstrap для более точного анализа потенциальной прибыли и рисков."
   ]
  },
  {
   "cell_type": "code",
   "execution_count": 36,
   "metadata": {},
   "outputs": [],
   "source": [
    "def bootstrap(predicted_valid, target_valid):\n",
    "    values = []\n",
    "\n",
    "    for i in range(1000):\n",
    "        s_target = target_valid.reset_index(drop=True).sample(\n",
    "            n = oil_well_all, replace = True, random_state = RANDOM_STATE)\n",
    "        s_predicted = predicted_valid[s_target.index]\n",
    "\n",
    "        # Рассчитаем прибыль\n",
    "        profit_s = profit(s_predicted, s_target)\n",
    "        values.append(profit_s)\n",
    "\n",
    "    # Рассчитаем среднюю прибыль, 95% доверительный интервал и риск убытков\n",
    "    values = pd.Series(values)\n",
    "    risk_loss = (values < 0).mean()\n",
    "    profit_mean = values.mean()\n",
    "    confidence_interval = (values.quantile(0.025), values.quantile(0.975))\n",
    "    \n",
    "\n",
    "    return risk_loss, confidence_interval, profit_mean"
   ]
  },
  {
   "cell_type": "code",
   "execution_count": 37,
   "metadata": {},
   "outputs": [
    {
     "name": "stdout",
     "output_type": "stream",
     "text": [
      "Регион 1:\n",
      "Риск убытков: 6.1%\n",
      "Средняя прибыль: 394284411.3405507\n",
      "Доверительный интервал: (-69450566.85672115, 915496165.8311511)\n"
     ]
    }
   ],
   "source": [
    "region_risk_0, region_confidence_0, region_profit_mean_0 = bootstrap(\n",
    "    predicted_valid_0, target_valid_0)\n",
    "print('Регион 1:')\n",
    "print('Риск убытков: {:.1%}'.format(region_risk_0))\n",
    "print('Средняя прибыль:', region_profit_mean_0)\n",
    "print('Доверительный интервал:', region_confidence_0)"
   ]
  },
  {
   "cell_type": "code",
   "execution_count": 38,
   "metadata": {},
   "outputs": [
    {
     "name": "stdout",
     "output_type": "stream",
     "text": [
      "Регион 2:\n",
      "Риск убытков: 0.7%\n",
      "Средняя прибыль: 454736359.0973578\n",
      "Доверительный интервал: (61071811.297698975, 855914149.1428356)\n"
     ]
    }
   ],
   "source": [
    "region_risk_1, region_confidence_1, region_profit_mean_1 = bootstrap(\n",
    "    predicted_valid_1, target_valid_1)\n",
    "print('Регион 2:')\n",
    "print('Риск убытков: {:.1%}'.format(region_risk_1))\n",
    "print('Средняя прибыль:', region_profit_mean_1)\n",
    "print('Доверительный интервал:', region_confidence_1)"
   ]
  },
  {
   "cell_type": "code",
   "execution_count": 39,
   "metadata": {},
   "outputs": [
    {
     "name": "stdout",
     "output_type": "stream",
     "text": [
      "Регион 3:\n",
      "Риск убытков: 7.6%\n",
      "Средняя прибыль: 353664097.5248346\n",
      "Доверительный интервал: (-162650946.9422927, 847761844.5147682)\n"
     ]
    }
   ],
   "source": [
    "region_risk_2, region_confidence_2, region_profit_mean_2 = bootstrap(\n",
    "    predicted_valid_2, target_valid_2)\n",
    "print('Регион 3:')\n",
    "print('Риск убытков: {:.1%}'.format(region_risk_2))\n",
    "print('Средняя прибыль:', region_profit_mean_2)\n",
    "print('Доверительный интервал:', region_confidence_2)"
   ]
  },
  {
   "cell_type": "markdown",
   "metadata": {},
   "source": [
    "### Вывод.\n",
    "\n",
    "Наилучшим вариантом будет 2-й регион, вероятност убытков в нем составила 0.7%. В этом регионе наблюдается лучший показатель средней прибыли.\n",
    "\n",
    "Цель достигнута. Два этих параметра полностью удоблетворяют условия поставленной задачи, уровень риска меньше 2,5%."
   ]
  },
  {
   "cell_type": "markdown",
   "metadata": {},
   "source": [
    "# Общий вывод\n",
    "\n",
    "1. Мы подготовили данные к работе. Проверили на отсутствие пропусков и дубликатов. Корреляции между признаками оказалась незначительной.Также мы удалили столбец ['id'], для обучения моделей этот признак неинформативен.\n",
    "\n",
    "2. При проверке моделей все моделли показали хорошие результаты, близкие к истинным.\n",
    "\n",
    "Лучше всего модель работает на втором регионе.\n",
    "\n",
    "Средний запас предсказанного сырья = 68.76995145799754\n",
    "\n",
    "RMSE = 0.889736773768065\n",
    "\n",
    "Истинный средний запас сырья = 68.77162424986196\n",
    "\n",
    "3. В процессе подготовки к расчету прибыли мы выяснили, что в каждом регионе средний объем сырья оказался меньше неоходимого для безубыточной добычи. Во время разработки скважин всегда есть высокие риски неокупаемости средств компании, затраченных на построение новых скважин. \n",
    "\n",
    "4. Написали функцию для расчета прибыли. С помощью метода Bootstrap получили более точный анализ потенциальной прибыли и рисков.\n",
    "\n",
    "5. Наилучшим вариантом будет 2-й регион. Так же этом регионе наблюдается лучший показатель средней прибыли.\n",
    "\n",
    "Риск убытков: 0.7%\n",
    "\n",
    "Средняя прибыль: 454736359.09735775"
   ]
  }
 ],
 "metadata": {
  "ExecuteTimeLog": [
   {
    "duration": 2493,
    "start_time": "2023-04-01T21:36:54.805Z"
   },
   {
    "duration": 16,
    "start_time": "2023-04-01T21:36:57.300Z"
   },
   {
    "duration": 9,
    "start_time": "2023-04-01T21:36:57.318Z"
   },
   {
    "duration": 18,
    "start_time": "2023-04-01T21:36:57.328Z"
   },
   {
    "duration": 21,
    "start_time": "2023-04-01T21:36:57.348Z"
   },
   {
    "duration": 12,
    "start_time": "2023-04-01T21:36:57.371Z"
   },
   {
    "duration": 13,
    "start_time": "2023-04-01T21:36:57.385Z"
   },
   {
    "duration": 42,
    "start_time": "2023-04-01T21:36:57.400Z"
   },
   {
    "duration": 135,
    "start_time": "2023-04-01T21:36:57.443Z"
   },
   {
    "duration": 97,
    "start_time": "2023-04-01T21:36:57.580Z"
   },
   {
    "duration": 9,
    "start_time": "2023-04-01T21:36:57.679Z"
   },
   {
    "duration": 13,
    "start_time": "2023-04-01T21:36:57.689Z"
   },
   {
    "duration": 10,
    "start_time": "2023-04-01T21:36:57.704Z"
   },
   {
    "duration": 31,
    "start_time": "2023-04-01T21:36:57.717Z"
   },
   {
    "duration": 3,
    "start_time": "2023-04-01T21:36:57.749Z"
   },
   {
    "duration": 7,
    "start_time": "2023-04-01T21:36:57.754Z"
   },
   {
    "duration": 87,
    "start_time": "2023-04-01T21:36:57.762Z"
   },
   {
    "duration": 3,
    "start_time": "2023-04-01T21:36:57.851Z"
   },
   {
    "duration": 8,
    "start_time": "2023-04-01T21:36:57.855Z"
   },
   {
    "duration": 13,
    "start_time": "2023-04-01T21:36:57.865Z"
   },
   {
    "duration": 7,
    "start_time": "2023-04-01T21:36:57.880Z"
   },
   {
    "duration": 5,
    "start_time": "2023-04-01T21:36:57.889Z"
   },
   {
    "duration": 147,
    "start_time": "2023-04-01T21:36:57.896Z"
   },
   {
    "duration": 6,
    "start_time": "2023-04-01T21:36:58.046Z"
   },
   {
    "duration": 8,
    "start_time": "2023-04-01T21:36:58.142Z"
   },
   {
    "duration": 91,
    "start_time": "2023-04-01T21:36:58.152Z"
   },
   {
    "duration": 7,
    "start_time": "2023-04-01T21:36:58.245Z"
   },
   {
    "duration": 9,
    "start_time": "2023-04-01T21:36:58.254Z"
   },
   {
    "duration": 13,
    "start_time": "2023-04-01T21:36:58.264Z"
   },
   {
    "duration": 10,
    "start_time": "2023-04-01T21:36:58.278Z"
   },
   {
    "duration": 27,
    "start_time": "2023-04-01T21:36:58.289Z"
   },
   {
    "duration": 6,
    "start_time": "2023-04-01T21:36:58.318Z"
   },
   {
    "duration": 10,
    "start_time": "2023-04-01T21:36:58.325Z"
   },
   {
    "duration": 6,
    "start_time": "2023-04-01T21:36:58.336Z"
   },
   {
    "duration": 6,
    "start_time": "2023-04-01T21:36:58.344Z"
   },
   {
    "duration": 5,
    "start_time": "2023-04-01T21:36:58.351Z"
   },
   {
    "duration": 683,
    "start_time": "2023-04-01T21:36:58.358Z"
   },
   {
    "duration": 674,
    "start_time": "2023-04-01T21:36:59.043Z"
   },
   {
    "duration": 714,
    "start_time": "2023-04-01T21:36:59.718Z"
   }
  ],
  "kernelspec": {
   "display_name": "Python 3 (ipykernel)",
   "language": "python",
   "name": "python3"
  },
  "language_info": {
   "codemirror_mode": {
    "name": "ipython",
    "version": 3
   },
   "file_extension": ".py",
   "mimetype": "text/x-python",
   "name": "python",
   "nbconvert_exporter": "python",
   "pygments_lexer": "ipython3",
   "version": "3.9.13"
  },
  "toc": {
   "base_numbering": 1,
   "nav_menu": {},
   "number_sections": true,
   "sideBar": true,
   "skip_h1_title": true,
   "title_cell": "Table of Contents",
   "title_sidebar": "Contents",
   "toc_cell": false,
   "toc_position": {},
   "toc_section_display": true,
   "toc_window_display": false
  }
 },
 "nbformat": 4,
 "nbformat_minor": 2
}
